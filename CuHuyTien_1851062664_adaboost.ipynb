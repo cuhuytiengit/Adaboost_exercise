{
  "cells": [
    {
      "cell_type": "markdown",
      "metadata": {
        "id": "AR3WHDseP9KL"
      },
      "source": [
        "LETTER"
      ]
    },
    {
      "cell_type": "code",
      "execution_count": 1,
      "metadata": {
        "id": "4zenMfDBJDlV"
      },
      "outputs": [],
      "source": [
        "# IMPORT THƯ VIỆN CẦN THIẾT \n",
        "import numpy as np\n",
        "import pandas as pd\n",
        "import seaborn as sns\n",
        "import matplotlib.pyplot as plt\n",
        "from random import sample\n",
        "import random\n",
        "from sklearn.tree import DecisionTreeClassifier\n",
        "from sklearn.ensemble import AdaBoostClassifier\n",
        "from sklearn.metrics import confusion_matrix\n",
        "from sklearn import tree\n",
        "from math import log,exp\n",
        "from sklearn.model_selection import train_test_split\n",
        "from sklearn.preprocessing import StandardScaler\n",
        "from sklearn import metrics\n",
        "from sklearn.metrics import accuracy_score, confusion_matrix, classification_report, plot_confusion_matrix\n"
      ]
    },
    {
      "cell_type": "code",
      "execution_count": 2,
      "metadata": {
        "colab": {
          "base_uri": "https://localhost:8080/"
        },
        "id": "FkdU5iXoKjmt",
        "outputId": "7e0a2156-2d88-4fa2-ee5a-042524d131d1"
      },
      "outputs": [
        {
          "name": "stdout",
          "output_type": "stream",
          "text": [
            "     Class  x-box  y-box  width  high  onpix  x-bar  y-bar  x2bar  y2bar  \\\n",
            "0        C      4     10      5     8      2      5      7      7     10   \n",
            "1        C      3      5      4     4      2      4      8      5      7   \n",
            "2        G      5     10      6     7      3      8      7      8      8   \n",
            "3        C      5      9      6     7      4      3      8      6      7   \n",
            "4        G      4      8      5     6      3      6      6      7      6   \n",
            "...    ...    ...    ...    ...   ...    ...    ...    ...    ...    ...   \n",
            "1504     C      5     10      6     8      4      5      8      9      9   \n",
            "1505     C      6     11      7     8      4      6      7     10      9   \n",
            "1506     G      5      9      6     7      4      6      7      6      6   \n",
            "1507     C      6     11      7     8      5      5      8      7      6   \n",
            "1508     C      5     10      5     8      3      6      8      7      7   \n",
            "\n",
            "      xybar  x2ybr  xy2br  x-ege  xegvy  y-ege  yegvx  \n",
            "0         7      6     13      1      8      4      9  \n",
            "1        12      9     11      1     10      2      7  \n",
            "2         6      7      9      2      7      5     10  \n",
            "3        12     10     13      1      9      3      7  \n",
            "4        10      7     12      2      9      4      9  \n",
            "...     ...    ...    ...    ...    ...    ...    ...  \n",
            "1504      9      9     12      2     10      4      9  \n",
            "1505     10      7     11      2     12      4      9  \n",
            "1506     10      7     10      2      9      5      9  \n",
            "1507      8      8     15      4      9      6      6  \n",
            "1508     13      7      9      2     11      3      7  \n",
            "\n",
            "[1509 rows x 17 columns]\n"
          ]
        }
      ],
      "source": [
        "letter = pd.read_csv(\"letters_CG.csv\")\n",
        "letter.head()\n",
        "print(letter)\n"
      ]
    },
    {
      "cell_type": "code",
      "execution_count": 3,
      "metadata": {
        "id": "vljX1AbBKjpO"
      },
      "outputs": [],
      "source": [
        "# Xét hai lớp C và G của lớp Class\n",
        "variable = letter[(letter['Class'] == 'C') | (letter['Class'] == 'G')]"
      ]
    },
    {
      "cell_type": "code",
      "execution_count": 4,
      "metadata": {
        "colab": {
          "base_uri": "https://localhost:8080/",
          "height": 81
        },
        "id": "1EfYLYnfKjr1",
        "outputId": "ac8d89a6-77cb-46ed-ff47-da1e0655f74f"
      },
      "outputs": [
        {
          "data": {
            "text/html": [
              "\n",
              "  <div id=\"df-3b29e094-9a50-4e21-971f-d6a1aff8c8cb\">\n",
              "    <div class=\"colab-df-container\">\n",
              "      <div>\n",
              "<style scoped>\n",
              "    .dataframe tbody tr th:only-of-type {\n",
              "        vertical-align: middle;\n",
              "    }\n",
              "\n",
              "    .dataframe tbody tr th {\n",
              "        vertical-align: top;\n",
              "    }\n",
              "\n",
              "    .dataframe thead th {\n",
              "        text-align: right;\n",
              "    }\n",
              "</style>\n",
              "<table border=\"1\" class=\"dataframe\">\n",
              "  <thead>\n",
              "    <tr style=\"text-align: right;\">\n",
              "      <th></th>\n",
              "      <th>Class</th>\n",
              "      <th>x-box</th>\n",
              "      <th>y-box</th>\n",
              "      <th>width</th>\n",
              "      <th>high</th>\n",
              "      <th>onpix</th>\n",
              "      <th>x-bar</th>\n",
              "      <th>y-bar</th>\n",
              "      <th>x2bar</th>\n",
              "      <th>y2bar</th>\n",
              "      <th>xybar</th>\n",
              "      <th>x2ybr</th>\n",
              "      <th>xy2br</th>\n",
              "      <th>x-ege</th>\n",
              "      <th>xegvy</th>\n",
              "      <th>y-ege</th>\n",
              "      <th>yegvx</th>\n",
              "    </tr>\n",
              "  </thead>\n",
              "  <tbody>\n",
              "    <tr>\n",
              "      <th>0</th>\n",
              "      <td>C</td>\n",
              "      <td>4</td>\n",
              "      <td>10</td>\n",
              "      <td>5</td>\n",
              "      <td>8</td>\n",
              "      <td>2</td>\n",
              "      <td>5</td>\n",
              "      <td>7</td>\n",
              "      <td>7</td>\n",
              "      <td>10</td>\n",
              "      <td>7</td>\n",
              "      <td>6</td>\n",
              "      <td>13</td>\n",
              "      <td>1</td>\n",
              "      <td>8</td>\n",
              "      <td>4</td>\n",
              "      <td>9</td>\n",
              "    </tr>\n",
              "  </tbody>\n",
              "</table>\n",
              "</div>\n",
              "      <button class=\"colab-df-convert\" onclick=\"convertToInteractive('df-3b29e094-9a50-4e21-971f-d6a1aff8c8cb')\"\n",
              "              title=\"Convert this dataframe to an interactive table.\"\n",
              "              style=\"display:none;\">\n",
              "        \n",
              "  <svg xmlns=\"http://www.w3.org/2000/svg\" height=\"24px\"viewBox=\"0 0 24 24\"\n",
              "       width=\"24px\">\n",
              "    <path d=\"M0 0h24v24H0V0z\" fill=\"none\"/>\n",
              "    <path d=\"M18.56 5.44l.94 2.06.94-2.06 2.06-.94-2.06-.94-.94-2.06-.94 2.06-2.06.94zm-11 1L8.5 8.5l.94-2.06 2.06-.94-2.06-.94L8.5 2.5l-.94 2.06-2.06.94zm10 10l.94 2.06.94-2.06 2.06-.94-2.06-.94-.94-2.06-.94 2.06-2.06.94z\"/><path d=\"M17.41 7.96l-1.37-1.37c-.4-.4-.92-.59-1.43-.59-.52 0-1.04.2-1.43.59L10.3 9.45l-7.72 7.72c-.78.78-.78 2.05 0 2.83L4 21.41c.39.39.9.59 1.41.59.51 0 1.02-.2 1.41-.59l7.78-7.78 2.81-2.81c.8-.78.8-2.07 0-2.86zM5.41 20L4 18.59l7.72-7.72 1.47 1.35L5.41 20z\"/>\n",
              "  </svg>\n",
              "      </button>\n",
              "      \n",
              "  <style>\n",
              "    .colab-df-container {\n",
              "      display:flex;\n",
              "      flex-wrap:wrap;\n",
              "      gap: 12px;\n",
              "    }\n",
              "\n",
              "    .colab-df-convert {\n",
              "      background-color: #E8F0FE;\n",
              "      border: none;\n",
              "      border-radius: 50%;\n",
              "      cursor: pointer;\n",
              "      display: none;\n",
              "      fill: #1967D2;\n",
              "      height: 32px;\n",
              "      padding: 0 0 0 0;\n",
              "      width: 32px;\n",
              "    }\n",
              "\n",
              "    .colab-df-convert:hover {\n",
              "      background-color: #E2EBFA;\n",
              "      box-shadow: 0px 1px 2px rgba(60, 64, 67, 0.3), 0px 1px 3px 1px rgba(60, 64, 67, 0.15);\n",
              "      fill: #174EA6;\n",
              "    }\n",
              "\n",
              "    [theme=dark] .colab-df-convert {\n",
              "      background-color: #3B4455;\n",
              "      fill: #D2E3FC;\n",
              "    }\n",
              "\n",
              "    [theme=dark] .colab-df-convert:hover {\n",
              "      background-color: #434B5C;\n",
              "      box-shadow: 0px 1px 3px 1px rgba(0, 0, 0, 0.15);\n",
              "      filter: drop-shadow(0px 1px 2px rgba(0, 0, 0, 0.3));\n",
              "      fill: #FFFFFF;\n",
              "    }\n",
              "  </style>\n",
              "\n",
              "      <script>\n",
              "        const buttonEl =\n",
              "          document.querySelector('#df-3b29e094-9a50-4e21-971f-d6a1aff8c8cb button.colab-df-convert');\n",
              "        buttonEl.style.display =\n",
              "          google.colab.kernel.accessAllowed ? 'block' : 'none';\n",
              "\n",
              "        async function convertToInteractive(key) {\n",
              "          const element = document.querySelector('#df-3b29e094-9a50-4e21-971f-d6a1aff8c8cb');\n",
              "          const dataTable =\n",
              "            await google.colab.kernel.invokeFunction('convertToInteractive',\n",
              "                                                     [key], {});\n",
              "          if (!dataTable) return;\n",
              "\n",
              "          const docLinkHtml = 'Like what you see? Visit the ' +\n",
              "            '<a target=\"_blank\" href=https://colab.research.google.com/notebooks/data_table.ipynb>data table notebook</a>'\n",
              "            + ' to learn more about interactive tables.';\n",
              "          element.innerHTML = '';\n",
              "          dataTable['output_type'] = 'display_data';\n",
              "          await google.colab.output.renderOutput(dataTable, element);\n",
              "          const docLink = document.createElement('div');\n",
              "          docLink.innerHTML = docLinkHtml;\n",
              "          element.appendChild(docLink);\n",
              "        }\n",
              "      </script>\n",
              "    </div>\n",
              "  </div>\n",
              "  "
            ],
            "text/plain": [
              "  Class  x-box  y-box  width  high  onpix  x-bar  y-bar  x2bar  y2bar  xybar  \\\n",
              "0     C      4     10      5     8      2      5      7      7     10      7   \n",
              "\n",
              "   x2ybr  xy2br  x-ege  xegvy  y-ege  yegvx  \n",
              "0      6     13      1      8      4      9  "
            ]
          },
          "execution_count": 4,
          "metadata": {},
          "output_type": "execute_result"
        }
      ],
      "source": [
        "variable.head(1)"
      ]
    },
    {
      "cell_type": "code",
      "execution_count": null,
      "metadata": {
        "colab": {
          "base_uri": "https://localhost:8080/"
        },
        "id": "kmYlDJXpKjuH",
        "outputId": "fd54ca43-08bc-4ed2-fb52-61504afc2804"
      },
      "outputs": [
        {
          "data": {
            "text/plain": [
              "Index(['Class', 'x-box', 'y-box', 'width', 'high', 'onpix', 'x-bar', 'y-bar',\n",
              "       'x2bar', 'y2bar', 'xybar', 'x2ybr', 'xy2br', 'x-ege', 'xegvy', 'y-ege',\n",
              "       'yegvx'],\n",
              "      dtype='object')"
            ]
          },
          "execution_count": 114,
          "metadata": {},
          "output_type": "execute_result"
        }
      ],
      "source": [
        "variable.columns"
      ]
    },
    {
      "cell_type": "code",
      "execution_count": 5,
      "metadata": {
        "colab": {
          "base_uri": "https://localhost:8080/"
        },
        "id": "c73c7GlsKjw0",
        "outputId": "16156e18-084d-4bf9-ba1e-2028fde102a3"
      },
      "outputs": [
        {
          "data": {
            "text/plain": [
              "G    773\n",
              "C    736\n",
              "Name: Class, dtype: int64"
            ]
          },
          "execution_count": 5,
          "metadata": {},
          "output_type": "execute_result"
        }
      ],
      "source": [
        "letter[\"Class\"].value_counts()"
      ]
    },
    {
      "cell_type": "code",
      "execution_count": 6,
      "metadata": {
        "colab": {
          "base_uri": "https://localhost:8080/",
          "height": 298
        },
        "id": "N35ILgbgOUU6",
        "outputId": "4850cab8-3e6e-4dcc-b227-47537f7eb25c"
      },
      "outputs": [
        {
          "data": {
            "text/plain": [
              "<matplotlib.axes._subplots.AxesSubplot at 0x7fe7dafcecd0>"
            ]
          },
          "execution_count": 6,
          "metadata": {},
          "output_type": "execute_result"
        },
        {
          "data": {
            "image/png": "[encoded data removed]",
            "text/plain": [
              "<Figure size 432x288 with 1 Axes>"
            ]
          },
          "metadata": {
            "needs_background": "light"
          },
          "output_type": "display_data"
        }
      ],
      "source": [
        "sns.countplot( x =letter['Class'])"
      ]
    },
    {
      "cell_type": "code",
      "execution_count": 7,
      "metadata": {
        "id": "sGM4TQ3tOUSh"
      },
      "outputs": [],
      "source": [
        "#Đặt lại hai lớp với giá trị +1 and -1\n",
        "variable['Label'] = variable['Class'].replace(to_replace = ['C','G'], value=[1,-1])"
      ]
    },
    {
      "cell_type": "code",
      "execution_count": 8,
      "metadata": {
        "id": "DqVC8mLtezd1"
      },
      "outputs": [],
      "source": [
        "X = letter.drop('Class', axis = 1)\n",
        "y = letter['Class']\n",
        "X_train, X_test, y_train, y_test= train_test_split(X, y, test_size=0.3, train_size=0.7, random_state=101)"
      ]
    },
    {
      "cell_type": "code",
      "execution_count": 9,
      "metadata": {
        "id": "wfhKm4dW_Vqy"
      },
      "outputs": [],
      "source": [
        "#có tác dụng chuyển đổi dữ liệu đào tạo và chỉ chuyển đổi dữ liệu kiểm tra\n",
        "scaler_train= StandardScaler()\n",
        "scaler_train.fit(X_train)\n",
        "scaler_test= StandardScaler()\n",
        "scaler_test.fit(X_test)\n",
        "X_train_scaled= scaler_train.transform(X_train)\n",
        "X_test_scaled= scaler_test.transform(X_test)"
      ]
    },
    {
      "cell_type": "code",
      "execution_count": 22,
      "metadata": {
        "id": "KCE2dB0h_iG9"
      },
      "outputs": [],
      "source": [
        "tree_model = DecisionTreeClassifier()\n",
        "tree_model = tree_model.fit(X_train,y_train)\n",
        "y_pred = tree_model.predict(X_test)"
      ]
    },
    {
      "cell_type": "code",
      "execution_count": 23,
      "metadata": {
        "colab": {
          "base_uri": "https://localhost:8080/"
        },
        "id": "Z0dDk1UNFEEJ",
        "outputId": "8539f1a5-8db3-4340-8e16-07a7f29f4314"
      },
      "outputs": [
        {
          "data": {
            "text/plain": [
              "AdaBoostClassifier(n_estimators=4, random_state=0)"
            ]
          },
          "execution_count": 23,
          "metadata": {},
          "output_type": "execute_result"
        }
      ],
      "source": [
        "clf = AdaBoostClassifier(n_estimators=4, random_state=0)\n",
        "clf.fit(X_train, y_train)\n",
        "clf.fit(X_test, y_test)"
      ]
    },
    {
      "cell_type": "code",
      "execution_count": 24,
      "metadata": {
        "colab": {
          "base_uri": "https://localhost:8080/"
        },
        "id": "A7_PuqFQAIXA",
        "outputId": "34e16faa-46b5-43da-fcd7-672c14b31bb4"
      },
      "outputs": [
        {
          "data": {
            "text/plain": [
              "0.8674242424242424"
            ]
          },
          "execution_count": 24,
          "metadata": {},
          "output_type": "execute_result"
        }
      ],
      "source": [
        "clf.score(X_train, y_train)"
      ]
    },
    {
      "cell_type": "code",
      "execution_count": 25,
      "metadata": {
        "colab": {
          "base_uri": "https://localhost:8080/"
        },
        "id": "30vGD6DALcxY",
        "outputId": "bfae603d-a9b4-4b6a-add6-e5b5dfde22e9"
      },
      "outputs": [
        {
          "data": {
            "text/plain": [
              "0.891832229580574"
            ]
          },
          "execution_count": 25,
          "metadata": {},
          "output_type": "execute_result"
        }
      ],
      "source": [
        "clf.score(X_test, y_test)"
      ]
    },
    {
      "cell_type": "code",
      "execution_count": 17,
      "metadata": {
        "id": "xUA1yBFTKicH"
      },
      "outputs": [],
      "source": [
        "#lắp mô hình DT với độ một sâu \n",
        "clf_gini = DecisionTreeClassifier(criterion = \"gini\", random_state = 200, max_depth=1)\n",
        "clf = clf_gini.fit(X_train, y_train)"
      ]
    },
    {
      "cell_type": "code",
      "execution_count": 18,
      "metadata": {
        "colab": {
          "base_uri": "https://localhost:8080/",
          "height": 300
        },
        "id": "hODLB82PKie7",
        "outputId": "ee3574fb-a2b0-4614-a364-4ef81e2fe9eb"
      },
      "outputs": [
        {
          "data": {
            "text/plain": [
              "[Text(0.5, 0.75, 'X[11] <= 11.5\\ngini = 0.5\\nsamples = 1056\\nvalue = [512, 544]'),\n",
              " Text(0.25, 0.25, 'gini = 0.405\\nsamples = 695\\nvalue = [196, 499]'),\n",
              " Text(0.75, 0.25, 'gini = 0.218\\nsamples = 361\\nvalue = [316, 45]')]"
            ]
          },
          "execution_count": 18,
          "metadata": {},
          "output_type": "execute_result"
        },
        {
          "data": {
            "image/png": "[encoded data removed]",
            "text/plain": [
              "<Figure size 432x288 with 1 Axes>"
            ]
          },
          "metadata": {
            "needs_background": "light"
          },
          "output_type": "display_data"
        }
      ],
      "source": [
        "tree.plot_tree(clf)"
      ]
    },
    {
      "cell_type": "markdown",
      "metadata": {
        "id": "k0I62ZTtNfQx"
      },
      "source": [
        "SPAM EMAIL"
      ]
    },
    {
      "cell_type": "code",
      "execution_count": 26,
      "metadata": {
        "id": "J5sT_Ld2NeuE"
      },
      "outputs": [],
      "source": [
        "# IMPORT THƯ VIỆN CẦN THIẾT \n",
        "import numpy as np\n",
        "import pandas as pd\n",
        "import seaborn as sns\n",
        "import matplotlib.pyplot as plt\n",
        "from random import sample\n",
        "import random\n",
        "from sklearn.tree import DecisionTreeClassifier\n",
        "from sklearn.ensemble import AdaBoostClassifier\n",
        "from sklearn.metrics import confusion_matrix\n",
        "from sklearn import tree\n",
        "from math import log,exp\n",
        "from sklearn.model_selection import train_test_split\n",
        "from sklearn.preprocessing import StandardScaler\n",
        "from sklearn import metrics\n",
        "from sklearn.metrics import accuracy_score, confusion_matrix, classification_report, plot_confusion_matrix"
      ]
    },
    {
      "cell_type": "code",
      "execution_count": 27,
      "metadata": {
        "colab": {
          "base_uri": "https://localhost:8080/"
        },
        "id": "ney6HMC6OG8w",
        "outputId": "13c8829c-3ae3-4caa-a50f-40d79c24e67a"
      },
      "outputs": [
        {
          "name": "stdout",
          "output_type": "stream",
          "text": [
            "      make  address   all   3d   our  over  remove  internet  order  mail  \\\n",
            "0     0.00     0.00  0.29  0.0  0.00  0.00    0.00      0.00   0.00  0.00   \n",
            "1     0.46     0.00  0.00  0.0  0.00  0.00    0.00      0.00   0.00  0.00   \n",
            "2     0.00     0.00  0.00  0.0  0.00  0.00    0.00      0.00   0.00  0.00   \n",
            "3     0.33     0.44  0.37  0.0  0.14  0.11    0.00      0.07   0.97  1.16   \n",
            "4     0.00     2.08  0.00  0.0  3.12  0.00    1.04      0.00   0.00  0.00   \n",
            "...    ...      ...   ...  ...   ...   ...     ...       ...    ...   ...   \n",
            "4596  0.00     0.00  0.53  0.0  0.00  0.53    0.00      0.00   0.00  0.53   \n",
            "4597  0.00     0.00  0.00  0.0  0.00  0.00    0.00      0.00   0.00  0.00   \n",
            "4598  0.00     0.00  0.00  0.0  0.00  0.00    0.00      0.00   0.00  0.00   \n",
            "4599  0.00     0.00  0.00  0.0  0.00  0.00    0.00      0.00   0.00  0.00   \n",
            "4600  0.13     0.26  0.52  0.0  0.26  0.00    0.13      0.00   0.00  0.39   \n",
            "\n",
            "      ...  semicol  paren  bracket   bang  dollar  pound  cap_avg  cap_long  \\\n",
            "0     ...    0.000  0.178      0.0  0.044   0.000   0.00    1.666        10   \n",
            "1     ...    0.000  0.125      0.0  0.000   0.000   0.00    1.510        10   \n",
            "2     ...    0.000  0.000      0.0  0.000   0.000   0.00    1.718        11   \n",
            "3     ...    0.006  0.159      0.0  0.069   0.221   0.11    3.426        72   \n",
            "4     ...    0.000  0.000      0.0  0.263   0.000   0.00    1.428         4   \n",
            "...   ...      ...    ...      ...    ...     ...    ...      ...       ...   \n",
            "4596  ...    0.000  0.101      0.0  0.000   0.000   0.00    1.857        16   \n",
            "4597  ...    0.000  0.443      0.0  0.221   0.665   0.00    3.812        15   \n",
            "4598  ...    0.000  0.000      0.0  0.000   0.000   0.00    1.000         1   \n",
            "4599  ...    0.000  0.218      0.0  0.218   0.000   0.00    1.687        10   \n",
            "4600  ...    0.000  0.000      0.0  0.366   0.000   0.04    7.138       149   \n",
            "\n",
            "      cap_total  Class  \n",
            "0           180    ham  \n",
            "1            74    ham  \n",
            "2            55    ham  \n",
            "3           819   spam  \n",
            "4            20   spam  \n",
            "...         ...    ...  \n",
            "4596         52    ham  \n",
            "4597         61   spam  \n",
            "4598          3    ham  \n",
            "4599         27    ham  \n",
            "4600       1235   spam  \n",
            "\n",
            "[4601 rows x 58 columns]\n"
          ]
        }
      ],
      "source": [
        "spam = pd.read_csv(\"spam_email.csv\")\n",
        "spam.head()\n",
        "print(spam)"
      ]
    },
    {
      "cell_type": "code",
      "execution_count": 28,
      "metadata": {
        "id": "haTkqFQHONXN"
      },
      "outputs": [],
      "source": [
        "# Xét hai lớp ham và spam của lớp Class\n",
        "variable = spam[(spam['Class'] == 'ham') | (spam['Class'] == 'spam')]"
      ]
    },
    {
      "cell_type": "code",
      "execution_count": 29,
      "metadata": {
        "colab": {
          "base_uri": "https://localhost:8080/",
          "height": 110
        },
        "id": "smEpco0wObYw",
        "outputId": "ef427222-4799-4a32-dbd6-3b57de757ab3"
      },
      "outputs": [
        {
          "data": {
            "text/html": [
              "\n",
              "  <div id=\"df-401be885-ca94-4e87-9770-b6831ea20830\">\n",
              "    <div class=\"colab-df-container\">\n",
              "      <div>\n",
              "<style scoped>\n",
              "    .dataframe tbody tr th:only-of-type {\n",
              "        vertical-align: middle;\n",
              "    }\n",
              "\n",
              "    .dataframe tbody tr th {\n",
              "        vertical-align: top;\n",
              "    }\n",
              "\n",
              "    .dataframe thead th {\n",
              "        text-align: right;\n",
              "    }\n",
              "</style>\n",
              "<table border=\"1\" class=\"dataframe\">\n",
              "  <thead>\n",
              "    <tr style=\"text-align: right;\">\n",
              "      <th></th>\n",
              "      <th>make</th>\n",
              "      <th>address</th>\n",
              "      <th>all</th>\n",
              "      <th>3d</th>\n",
              "      <th>our</th>\n",
              "      <th>over</th>\n",
              "      <th>remove</th>\n",
              "      <th>internet</th>\n",
              "      <th>order</th>\n",
              "      <th>mail</th>\n",
              "      <th>...</th>\n",
              "      <th>semicol</th>\n",
              "      <th>paren</th>\n",
              "      <th>bracket</th>\n",
              "      <th>bang</th>\n",
              "      <th>dollar</th>\n",
              "      <th>pound</th>\n",
              "      <th>cap_avg</th>\n",
              "      <th>cap_long</th>\n",
              "      <th>cap_total</th>\n",
              "      <th>Class</th>\n",
              "    </tr>\n",
              "  </thead>\n",
              "  <tbody>\n",
              "    <tr>\n",
              "      <th>0</th>\n",
              "      <td>0.0</td>\n",
              "      <td>0.0</td>\n",
              "      <td>0.29</td>\n",
              "      <td>0.0</td>\n",
              "      <td>0.0</td>\n",
              "      <td>0.0</td>\n",
              "      <td>0.0</td>\n",
              "      <td>0.0</td>\n",
              "      <td>0.0</td>\n",
              "      <td>0.0</td>\n",
              "      <td>...</td>\n",
              "      <td>0.0</td>\n",
              "      <td>0.178</td>\n",
              "      <td>0.0</td>\n",
              "      <td>0.044</td>\n",
              "      <td>0.0</td>\n",
              "      <td>0.0</td>\n",
              "      <td>1.666</td>\n",
              "      <td>10</td>\n",
              "      <td>180</td>\n",
              "      <td>ham</td>\n",
              "    </tr>\n",
              "  </tbody>\n",
              "</table>\n",
              "<p>1 rows × 58 columns</p>\n",
              "</div>\n",
              "      <button class=\"colab-df-convert\" onclick=\"convertToInteractive('df-401be885-ca94-4e87-9770-b6831ea20830')\"\n",
              "              title=\"Convert this dataframe to an interactive table.\"\n",
              "              style=\"display:none;\">\n",
              "        \n",
              "  <svg xmlns=\"http://www.w3.org/2000/svg\" height=\"24px\"viewBox=\"0 0 24 24\"\n",
              "       width=\"24px\">\n",
              "    <path d=\"M0 0h24v24H0V0z\" fill=\"none\"/>\n",
              "    <path d=\"M18.56 5.44l.94 2.06.94-2.06 2.06-.94-2.06-.94-.94-2.06-.94 2.06-2.06.94zm-11 1L8.5 8.5l.94-2.06 2.06-.94-2.06-.94L8.5 2.5l-.94 2.06-2.06.94zm10 10l.94 2.06.94-2.06 2.06-.94-2.06-.94-.94-2.06-.94 2.06-2.06.94z\"/><path d=\"M17.41 7.96l-1.37-1.37c-.4-.4-.92-.59-1.43-.59-.52 0-1.04.2-1.43.59L10.3 9.45l-7.72 7.72c-.78.78-.78 2.05 0 2.83L4 21.41c.39.39.9.59 1.41.59.51 0 1.02-.2 1.41-.59l7.78-7.78 2.81-2.81c.8-.78.8-2.07 0-2.86zM5.41 20L4 18.59l7.72-7.72 1.47 1.35L5.41 20z\"/>\n",
              "  </svg>\n",
              "      </button>\n",
              "      \n",
              "  <style>\n",
              "    .colab-df-container {\n",
              "      display:flex;\n",
              "      flex-wrap:wrap;\n",
              "      gap: 12px;\n",
              "    }\n",
              "\n",
              "    .colab-df-convert {\n",
              "      background-color: #E8F0FE;\n",
              "      border: none;\n",
              "      border-radius: 50%;\n",
              "      cursor: pointer;\n",
              "      display: none;\n",
              "      fill: #1967D2;\n",
              "      height: 32px;\n",
              "      padding: 0 0 0 0;\n",
              "      width: 32px;\n",
              "    }\n",
              "\n",
              "    .colab-df-convert:hover {\n",
              "      background-color: #E2EBFA;\n",
              "      box-shadow: 0px 1px 2px rgba(60, 64, 67, 0.3), 0px 1px 3px 1px rgba(60, 64, 67, 0.15);\n",
              "      fill: #174EA6;\n",
              "    }\n",
              "\n",
              "    [theme=dark] .colab-df-convert {\n",
              "      background-color: #3B4455;\n",
              "      fill: #D2E3FC;\n",
              "    }\n",
              "\n",
              "    [theme=dark] .colab-df-convert:hover {\n",
              "      background-color: #434B5C;\n",
              "      box-shadow: 0px 1px 3px 1px rgba(0, 0, 0, 0.15);\n",
              "      filter: drop-shadow(0px 1px 2px rgba(0, 0, 0, 0.3));\n",
              "      fill: #FFFFFF;\n",
              "    }\n",
              "  </style>\n",
              "\n",
              "      <script>\n",
              "        const buttonEl =\n",
              "          document.querySelector('#df-401be885-ca94-4e87-9770-b6831ea20830 button.colab-df-convert');\n",
              "        buttonEl.style.display =\n",
              "          google.colab.kernel.accessAllowed ? 'block' : 'none';\n",
              "\n",
              "        async function convertToInteractive(key) {\n",
              "          const element = document.querySelector('#df-401be885-ca94-4e87-9770-b6831ea20830');\n",
              "          const dataTable =\n",
              "            await google.colab.kernel.invokeFunction('convertToInteractive',\n",
              "                                                     [key], {});\n",
              "          if (!dataTable) return;\n",
              "\n",
              "          const docLinkHtml = 'Like what you see? Visit the ' +\n",
              "            '<a target=\"_blank\" href=https://colab.research.google.com/notebooks/data_table.ipynb>data table notebook</a>'\n",
              "            + ' to learn more about interactive tables.';\n",
              "          element.innerHTML = '';\n",
              "          dataTable['output_type'] = 'display_data';\n",
              "          await google.colab.output.renderOutput(dataTable, element);\n",
              "          const docLink = document.createElement('div');\n",
              "          docLink.innerHTML = docLinkHtml;\n",
              "          element.appendChild(docLink);\n",
              "        }\n",
              "      </script>\n",
              "    </div>\n",
              "  </div>\n",
              "  "
            ],
            "text/plain": [
              "   make  address   all   3d  our  over  remove  internet  order  mail  ...  \\\n",
              "0   0.0      0.0  0.29  0.0  0.0   0.0     0.0       0.0    0.0   0.0  ...   \n",
              "\n",
              "   semicol  paren  bracket   bang  dollar  pound  cap_avg  cap_long  \\\n",
              "0      0.0  0.178      0.0  0.044     0.0    0.0    1.666        10   \n",
              "\n",
              "   cap_total  Class  \n",
              "0        180    ham  \n",
              "\n",
              "[1 rows x 58 columns]"
            ]
          },
          "execution_count": 29,
          "metadata": {},
          "output_type": "execute_result"
        }
      ],
      "source": [
        "variable.head(1)"
      ]
    },
    {
      "cell_type": "code",
      "execution_count": 30,
      "metadata": {
        "colab": {
          "base_uri": "https://localhost:8080/"
        },
        "id": "sfxK-22cOx-h",
        "outputId": "f798c896-b943-41f6-9cf5-275a55563907"
      },
      "outputs": [
        {
          "data": {
            "text/plain": [
              "Index(['make', 'address', 'all', '3d', 'our', 'over', 'remove', 'internet',\n",
              "       'order', 'mail', 'receive', 'will', 'people', 'report', 'addresses',\n",
              "       'free', 'business', 'email', 'you', 'credit', 'your', 'font', '0',\n",
              "       'money', 'hp', 'hpl', 'george', '650', 'lab', 'labs', 'telnet', '857',\n",
              "       'data', '415', '85', 'technology', '1999', 'parts', 'pm', 'direct',\n",
              "       'cs', 'meeting', 'original', 'project', 're', 'edu', 'table',\n",
              "       'conference', 'semicol', 'paren', 'bracket', 'bang', 'dollar', 'pound',\n",
              "       'cap_avg', 'cap_long', 'cap_total', 'Class'],\n",
              "      dtype='object')"
            ]
          },
          "execution_count": 30,
          "metadata": {},
          "output_type": "execute_result"
        }
      ],
      "source": [
        "variable.columns"
      ]
    },
    {
      "cell_type": "code",
      "execution_count": 31,
      "metadata": {
        "colab": {
          "base_uri": "https://localhost:8080/"
        },
        "id": "kgEwgJCrO1IX",
        "outputId": "9e451ff3-550c-41ba-d25d-9e627a407673"
      },
      "outputs": [
        {
          "data": {
            "text/plain": [
              "G    773\n",
              "C    736\n",
              "Name: Class, dtype: int64"
            ]
          },
          "execution_count": 31,
          "metadata": {},
          "output_type": "execute_result"
        }
      ],
      "source": [
        "letter[\"Class\"].value_counts()"
      ]
    },
    {
      "cell_type": "code",
      "execution_count": 32,
      "metadata": {
        "colab": {
          "base_uri": "https://localhost:8080/",
          "height": 298
        },
        "id": "ITb_Q708O2TY",
        "outputId": "b8bcd633-f74c-4443-f7ba-612d1a070e96"
      },
      "outputs": [
        {
          "data": {
            "text/plain": [
              "<matplotlib.axes._subplots.AxesSubplot at 0x7fe7da98e9d0>"
            ]
          },
          "execution_count": 32,
          "metadata": {},
          "output_type": "execute_result"
        },
        {
          "data": {
            "image/png": "[encoded data removed]",
            "text/plain": [
              "<Figure size 432x288 with 1 Axes>"
            ]
          },
          "metadata": {
            "needs_background": "light"
          },
          "output_type": "display_data"
        }
      ],
      "source": [
        "sns.countplot( x =letter['Class'])"
      ]
    },
    {
      "cell_type": "code",
      "execution_count": 33,
      "metadata": {
        "id": "2O8GC2aIO9q4"
      },
      "outputs": [],
      "source": [
        "#Đặt lại hai lớp với giá trị +1 and -1\n",
        "variable['Label'] = variable['Class'].replace(to_replace = ['ham','spam'], value=[1,-1])"
      ]
    },
    {
      "cell_type": "code",
      "execution_count": 34,
      "metadata": {
        "id": "ypqm-JV9O9tO"
      },
      "outputs": [],
      "source": [
        "X = letter.drop('Class', axis = 1)\n",
        "y = letter['Class']\n",
        "X_train, X_test, y_train, y_test= train_test_split(X, y, test_size=0.2, train_size=0.8, random_state=101)"
      ]
    },
    {
      "cell_type": "code",
      "execution_count": 35,
      "metadata": {
        "id": "VSRvtDu8O9vw"
      },
      "outputs": [],
      "source": [
        "#có tác dụng chuyển đổi dữ liệu đào tạo và chỉ chuyển đổi dữ liệu kiểm tra\n",
        "scaler_train= StandardScaler()\n",
        "scaler_train.fit(X_train)\n",
        "scaler_test= StandardScaler()\n",
        "scaler_test.fit(X_test)\n",
        "X_train_scaled= scaler_train.transform(X_train)\n",
        "X_test_scaled= scaler_test.transform(X_test)"
      ]
    },
    {
      "cell_type": "code",
      "execution_count": 36,
      "metadata": {
        "id": "UfMeoXbHO9yc"
      },
      "outputs": [],
      "source": [
        "tree_model = DecisionTreeClassifier()\n",
        "tree_model = tree_model.fit(X_train,y_train)\n",
        "y_pred = tree_model.predict(X_test)"
      ]
    },
    {
      "cell_type": "code",
      "execution_count": 37,
      "metadata": {
        "colab": {
          "base_uri": "https://localhost:8080/"
        },
        "id": "WHtyhZ0kO91L",
        "outputId": "3341325b-cf9d-4bf9-8545-cef2bb62b38a"
      },
      "outputs": [
        {
          "data": {
            "text/plain": [
              "AdaBoostClassifier(n_estimators=4, random_state=0)"
            ]
          },
          "execution_count": 37,
          "metadata": {},
          "output_type": "execute_result"
        }
      ],
      "source": [
        "clf = AdaBoostClassifier(n_estimators=4, random_state=0)\n",
        "clf.fit(X_train, y_train)"
      ]
    },
    {
      "cell_type": "code",
      "execution_count": 40,
      "metadata": {
        "colab": {
          "base_uri": "https://localhost:8080/"
        },
        "id": "UnrSGaPEO95Y",
        "outputId": "dc8a02f3-0d83-4be1-f7cf-c58e0dc7e381"
      },
      "outputs": [
        {
          "data": {
            "text/plain": [
              "0.8583264291632146"
            ]
          },
          "execution_count": 40,
          "metadata": {},
          "output_type": "execute_result"
        }
      ],
      "source": [
        "clf.score(X_train, y_train)"
      ]
    },
    {
      "cell_type": "code",
      "execution_count": 41,
      "metadata": {
        "colab": {
          "base_uri": "https://localhost:8080/"
        },
        "id": "OKxILE1qNpn9",
        "outputId": "1aa3e1f4-72e8-4e2f-ff95-bb03bd5b791a"
      },
      "outputs": [
        {
          "data": {
            "text/plain": [
              "0.8642384105960265"
            ]
          },
          "execution_count": 41,
          "metadata": {},
          "output_type": "execute_result"
        }
      ],
      "source": [
        "clf.score(X_test, y_test)"
      ]
    },
    {
      "cell_type": "code",
      "execution_count": 42,
      "metadata": {
        "id": "-LCFdKKRO97X"
      },
      "outputs": [],
      "source": [
        "#lắp mô hình DT với độ một sâu \n",
        "clf_gini = DecisionTreeClassifier(criterion = \"gini\", random_state = 200, max_depth=1)\n",
        "clf = clf_gini.fit(X_train, y_train)"
      ]
    },
    {
      "cell_type": "code",
      "execution_count": 43,
      "metadata": {
        "colab": {
          "base_uri": "https://localhost:8080/",
          "height": 300
        },
        "id": "4TjophKSPpy7",
        "outputId": "67c4786b-5652-4a16-820d-3aa1c2fb7c25"
      },
      "outputs": [
        {
          "data": {
            "text/plain": [
              "[Text(0.5, 0.75, 'X[11] <= 11.5\\ngini = 0.5\\nsamples = 1207\\nvalue = [595, 612]'),\n",
              " Text(0.25, 0.25, 'gini = 0.406\\nsamples = 779\\nvalue = [221, 558]'),\n",
              " Text(0.75, 0.25, 'gini = 0.22\\nsamples = 428\\nvalue = [374, 54]')]"
            ]
          },
          "execution_count": 43,
          "metadata": {},
          "output_type": "execute_result"
        },
        {
          "data": {
            "image/png": "[encoded data removed]",
            "text/plain": [
              "<Figure size 432x288 with 1 Axes>"
            ]
          },
          "metadata": {
            "needs_background": "light"
          },
          "output_type": "display_data"
        }
      ],
      "source": [
        "tree.plot_tree(clf)"
      ]
    }
  ],
  "metadata": {
    "colab": {
      "collapsed_sections": [],
      "name": "CuHuyTien_1851062664_adaboost.ipynb",
      "provenance": []
    },
    "kernelspec": {
      "display_name": "Python 3",
      "name": "python3"
    },
    "language_info": {
      "name": "python"
    }
  },
  "nbformat": 4,
  "nbformat_minor": 0
}
